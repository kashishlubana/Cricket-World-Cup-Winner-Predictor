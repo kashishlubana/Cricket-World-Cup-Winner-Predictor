{
 "cells": [
  {
   "cell_type": "code",
   "execution_count": 35,
   "metadata": {},
   "outputs": [],
   "source": [
    "import pandas as pd\n",
    "import numpy as np\n",
    "import seaborn as sns\n",
    "import matplotlib.pyplot as plt"
   ]
  },
  {
   "cell_type": "markdown",
   "metadata": {},
   "source": [
    "## load the CSV(world cup matches from 1983 to 2019)"
   ]
  },
  {
   "cell_type": "code",
   "execution_count": 2,
   "metadata": {},
   "outputs": [],
   "source": [
    "matches = pd.read_csv(Data\CWC_Matches_Combined.csv\") "
   ]
  },
  {
   "cell_type": "code",
   "execution_count": 3,
   "metadata": {},
   "outputs": [],
   "source": [
    "#Need to rename team U.A.E. to UAE from all the columns \n",
    "matches['Team 2'] = matches['Team 2'].str.replace('U.A.E.','UAE')\n",
    "matches['Team 1'] = matches['Team 1'].str.replace('U.A.E.','UAE')\n",
    "matches['Winner'] = matches['Winner'].str.replace('U.A.E.','UAE')"
   ]
  },
  {
   "cell_type": "code",
   "execution_count": 4,
   "metadata": {
    "scrolled": false
   },
   "outputs": [
    {
     "name": "stdout",
     "output_type": "stream",
     "text": [
      "['New Zealand' 'Sri Lanka' 'Zimbabwe' 'West Indies' 'Pakistan' 'India'\n",
      " 'Australia' 'England' 'South Africa' 'UAE' 'Kenya' 'Netherlands'\n",
      " 'Scotland' 'Bangladesh' 'Namibia' 'Canada' 'Ireland' 'Bermuda'\n",
      " 'Afghanistan']\n"
     ]
    }
   ],
   "source": [
    "print(matches[\"Team 2\"].unique())"
   ]
  },
  {
   "cell_type": "code",
   "execution_count": 5,
   "metadata": {},
   "outputs": [],
   "source": [
    "# For making a more realiable model we need more independent variable, hence adding toss winner columns\n",
    "matches[\"Toss Winner\"] = \"\""
   ]
  },
  {
   "cell_type": "code",
   "execution_count": 6,
   "metadata": {},
   "outputs": [
    {
     "name": "stdout",
     "output_type": "stream",
     "text": [
      "Sri Lanka\n",
      "West Indies\n",
      "Pakistan\n",
      "Zimbabwe\n",
      "Sri Lanka\n",
      "Zimbabwe\n",
      "West Indies\n",
      "Zimbabwe\n",
      "Sri Lanka\n",
      "Zimbabwe\n",
      "Pakistan\n",
      "Zimbabwe\n",
      "West Indies\n",
      "Sri Lanka\n",
      "West Indies\n",
      "England\n",
      "West Indies\n",
      "West Indies\n",
      "Sri Lanka\n",
      "England\n",
      "Australia\n",
      "Sri Lanka\n",
      "Zimbabwe\n",
      "Zimbabwe\n",
      "West Indies\n",
      "Australia\n",
      "England\n",
      "India\n",
      "West Indies\n",
      "South Africa\n",
      "West Indies\n",
      "South Africa\n",
      "India\n",
      "Sri Lanka\n",
      "Pakistan\n",
      "England\n",
      "Sri Lanka\n",
      "South Africa\n",
      "West Indies\n",
      "Pakistan\n",
      "South Africa\n",
      "Zimbabwe\n",
      "South Africa\n",
      "Pakistan\n",
      "West Indies\n",
      "South Africa\n",
      "New Zealand\n",
      "Zimbabwe\n",
      "Australia\n",
      "UAE\n",
      "Zimbabwe\n",
      "Netherlands\n",
      "UAE\n",
      "South Africa\n",
      "Netherlands\n",
      "UAE\n",
      "West Indies\n",
      "Zimbabwe\n",
      "Sri Lanka\n",
      "West Indies\n",
      "Zimbabwe\n",
      "New Zealand\n",
      "Pakistan\n",
      "New Zealand\n",
      "West Indies\n",
      "Sri Lanka\n",
      "Zimbabwe\n",
      "West Indies\n",
      "Kenya\n",
      "Sri Lanka\n",
      "Scotland\n",
      "South Africa\n",
      "Kenya\n",
      "Bangladesh\n",
      "Zimbabwe\n",
      "Sri Lanka\n",
      "West Indies\n",
      "India\n",
      "Sri Lanka\n",
      "Pakistan\n",
      "India\n",
      "Zimbabwe\n",
      "Zimbabwe\n",
      "Zimbabwe\n",
      "South Africa\n",
      "South Africa\n",
      "West Indies\n",
      "Sri Lanka\n",
      "Canada\n",
      "Netherlands\n",
      "West Indies\n",
      "India\n",
      "Netherlands\n",
      "New Zealand\n",
      "India\n",
      "Namibia\n",
      "New Zealand\n",
      "Pakistan\n",
      "Namibia\n",
      "Australia\n",
      "New Zealand\n",
      "Namibia\n",
      "Netherlands\n",
      "Kenya\n",
      "England\n",
      "Netherlands\n",
      "Pakistan\n",
      "Sri Lanka\n",
      "Zimbabwe\n",
      "New Zealand\n",
      "New Zealand\n",
      "Kenya\n",
      "Kenya\n",
      "Pakistan\n",
      "Kenya\n",
      "Zimbabwe\n",
      "South Africa\n",
      "Pakistan\n",
      "England\n",
      "Zimbabwe\n",
      "South Africa\n",
      "Zimbabwe\n",
      "Scotland\n",
      "Ireland\n",
      "Kenya\n",
      "Australia\n",
      "New Zealand\n",
      "Bangladesh\n",
      "New Zealand\n",
      "Sri Lanka\n",
      "England\n",
      "South Africa\n",
      "Sri Lanka\n",
      "South Africa\n",
      "Sri Lanka\n",
      "Sri Lanka\n",
      "New Zealand\n",
      "Sri Lanka\n",
      "Sri Lanka\n",
      "New Zealand\n",
      "Zimbabwe\n",
      "Pakistan\n",
      "New Zealand\n",
      "Pakistan\n",
      "Zimbabwe\n",
      "Kenya\n",
      "South Africa\n",
      "Zimbabwe\n",
      "Australia\n",
      "Ireland\n",
      "Pakistan\n",
      "Zimbabwe\n",
      "England\n",
      "New Zealand\n",
      "Netherlands\n",
      "South Africa\n",
      "West Indies\n",
      "Sri Lanka\n",
      "Pakistan\n",
      "West Indies\n",
      "Australia\n",
      "England\n",
      "Pakistan\n",
      "Sri Lanka\n",
      "Zimbabwe\n",
      "West Indies\n",
      "Bangladesh\n",
      "England\n",
      "Bangladesh\n",
      "South Africa\n",
      "Zimbabwe\n",
      "Scotland\n",
      "West Indies\n",
      "UAE\n",
      "Zimbabwe\n",
      "UAE\n",
      "Scotland\n",
      "South Africa\n",
      "Afghanistan\n",
      "England\n",
      "Sri Lanka\n",
      "Bangladesh\n",
      "Zimbabwe\n",
      "West Indies\n",
      "Sri Lanka\n",
      "Pakistan\n",
      "South Africa\n",
      "New Zealand\n",
      "West Indies\n",
      "Australia\n",
      "Pakistan\n",
      "South Africa\n",
      "West Indies\n",
      "Bangladesh\n",
      "India\n",
      "Sri Lanka\n",
      "New Zealand\n",
      "Sri Lanka\n",
      "Pakistan\n",
      "Afghanistan\n",
      "Bangladesh\n",
      "India\n",
      "South Africa\n",
      "Australia\n",
      "West Indies\n",
      "Pakistan\n",
      "India\n",
      "India\n",
      "West Indies\n",
      "Sri Lanka\n",
      "New Zealand\n",
      "New Zealand\n"
     ]
    },
    {
     "ename": "IndexError",
     "evalue": "single positional indexer is out-of-bounds",
     "output_type": "error",
     "traceback": [
      "\u001b[1;31m---------------------------------------------------------------------------\u001b[0m",
      "\u001b[1;31mIndexError\u001b[0m                                Traceback (most recent call last)",
      "\u001b[1;32m<ipython-input-6-4d9bc499c1e5>\u001b[0m in \u001b[0;36m<module>\u001b[1;34m\u001b[0m\n\u001b[0;32m      3\u001b[0m \u001b[1;32mfor\u001b[0m \u001b[0mi\u001b[0m \u001b[1;32min\u001b[0m \u001b[0mrange\u001b[0m\u001b[1;33m(\u001b[0m\u001b[0mmatches\u001b[0m\u001b[1;33m.\u001b[0m\u001b[0mshape\u001b[0m\u001b[1;33m[\u001b[0m\u001b[1;36m0\u001b[0m\u001b[1;33m]\u001b[0m\u001b[1;33m)\u001b[0m\u001b[1;33m:\u001b[0m\u001b[1;33m\u001b[0m\u001b[1;33m\u001b[0m\u001b[0m\n\u001b[0;32m      4\u001b[0m \u001b[1;33m\u001b[0m\u001b[0m\n\u001b[1;32m----> 5\u001b[1;33m     \u001b[0mwinner_team\u001b[0m \u001b[1;33m=\u001b[0m \u001b[0mmatches\u001b[0m\u001b[1;33m.\u001b[0m\u001b[0miloc\u001b[0m\u001b[1;33m[\u001b[0m\u001b[0mj\u001b[0m\u001b[1;33m,\u001b[0m\u001b[1;36m1\u001b[0m\u001b[1;33m]\u001b[0m\u001b[1;33m\u001b[0m\u001b[1;33m\u001b[0m\u001b[0m\n\u001b[0m\u001b[0;32m      6\u001b[0m     \u001b[0mmatches\u001b[0m\u001b[1;33m.\u001b[0m\u001b[0miloc\u001b[0m\u001b[1;33m[\u001b[0m\u001b[0mj\u001b[0m\u001b[1;33m,\u001b[0m\u001b[1;36m7\u001b[0m\u001b[1;33m]\u001b[0m \u001b[1;33m=\u001b[0m \u001b[0mwinner_team\u001b[0m\u001b[1;33m\u001b[0m\u001b[1;33m\u001b[0m\u001b[0m\n\u001b[0;32m      7\u001b[0m     \u001b[0mprint\u001b[0m\u001b[1;33m(\u001b[0m\u001b[0mwinner_team\u001b[0m\u001b[1;33m)\u001b[0m\u001b[1;33m\u001b[0m\u001b[1;33m\u001b[0m\u001b[0m\n",
      "\u001b[1;32mG:\\Anaconda\\lib\\site-packages\\pandas\\core\\indexing.py\u001b[0m in \u001b[0;36m__getitem__\u001b[1;34m(self, key)\u001b[0m\n\u001b[0;32m   1416\u001b[0m                 \u001b[1;32mexcept\u001b[0m \u001b[1;33m(\u001b[0m\u001b[0mKeyError\u001b[0m\u001b[1;33m,\u001b[0m \u001b[0mIndexError\u001b[0m\u001b[1;33m,\u001b[0m \u001b[0mAttributeError\u001b[0m\u001b[1;33m)\u001b[0m\u001b[1;33m:\u001b[0m\u001b[1;33m\u001b[0m\u001b[1;33m\u001b[0m\u001b[0m\n\u001b[0;32m   1417\u001b[0m                     \u001b[1;32mpass\u001b[0m\u001b[1;33m\u001b[0m\u001b[1;33m\u001b[0m\u001b[0m\n\u001b[1;32m-> 1418\u001b[1;33m             \u001b[1;32mreturn\u001b[0m \u001b[0mself\u001b[0m\u001b[1;33m.\u001b[0m\u001b[0m_getitem_tuple\u001b[0m\u001b[1;33m(\u001b[0m\u001b[0mkey\u001b[0m\u001b[1;33m)\u001b[0m\u001b[1;33m\u001b[0m\u001b[1;33m\u001b[0m\u001b[0m\n\u001b[0m\u001b[0;32m   1419\u001b[0m         \u001b[1;32melse\u001b[0m\u001b[1;33m:\u001b[0m\u001b[1;33m\u001b[0m\u001b[1;33m\u001b[0m\u001b[0m\n\u001b[0;32m   1420\u001b[0m             \u001b[1;31m# we by definition only have the 0th axis\u001b[0m\u001b[1;33m\u001b[0m\u001b[1;33m\u001b[0m\u001b[1;33m\u001b[0m\u001b[0m\n",
      "\u001b[1;32mG:\\Anaconda\\lib\\site-packages\\pandas\\core\\indexing.py\u001b[0m in \u001b[0;36m_getitem_tuple\u001b[1;34m(self, tup)\u001b[0m\n\u001b[0;32m   2090\u001b[0m     \u001b[1;32mdef\u001b[0m \u001b[0m_getitem_tuple\u001b[0m\u001b[1;33m(\u001b[0m\u001b[0mself\u001b[0m\u001b[1;33m,\u001b[0m \u001b[0mtup\u001b[0m\u001b[1;33m)\u001b[0m\u001b[1;33m:\u001b[0m\u001b[1;33m\u001b[0m\u001b[1;33m\u001b[0m\u001b[0m\n\u001b[0;32m   2091\u001b[0m \u001b[1;33m\u001b[0m\u001b[0m\n\u001b[1;32m-> 2092\u001b[1;33m         \u001b[0mself\u001b[0m\u001b[1;33m.\u001b[0m\u001b[0m_has_valid_tuple\u001b[0m\u001b[1;33m(\u001b[0m\u001b[0mtup\u001b[0m\u001b[1;33m)\u001b[0m\u001b[1;33m\u001b[0m\u001b[1;33m\u001b[0m\u001b[0m\n\u001b[0m\u001b[0;32m   2093\u001b[0m         \u001b[1;32mtry\u001b[0m\u001b[1;33m:\u001b[0m\u001b[1;33m\u001b[0m\u001b[1;33m\u001b[0m\u001b[0m\n\u001b[0;32m   2094\u001b[0m             \u001b[1;32mreturn\u001b[0m \u001b[0mself\u001b[0m\u001b[1;33m.\u001b[0m\u001b[0m_getitem_lowerdim\u001b[0m\u001b[1;33m(\u001b[0m\u001b[0mtup\u001b[0m\u001b[1;33m)\u001b[0m\u001b[1;33m\u001b[0m\u001b[1;33m\u001b[0m\u001b[0m\n",
      "\u001b[1;32mG:\\Anaconda\\lib\\site-packages\\pandas\\core\\indexing.py\u001b[0m in \u001b[0;36m_has_valid_tuple\u001b[1;34m(self, key)\u001b[0m\n\u001b[0;32m    233\u001b[0m                 \u001b[1;32mraise\u001b[0m \u001b[0mIndexingError\u001b[0m\u001b[1;33m(\u001b[0m\u001b[1;34m\"Too many indexers\"\u001b[0m\u001b[1;33m)\u001b[0m\u001b[1;33m\u001b[0m\u001b[1;33m\u001b[0m\u001b[0m\n\u001b[0;32m    234\u001b[0m             \u001b[1;32mtry\u001b[0m\u001b[1;33m:\u001b[0m\u001b[1;33m\u001b[0m\u001b[1;33m\u001b[0m\u001b[0m\n\u001b[1;32m--> 235\u001b[1;33m                 \u001b[0mself\u001b[0m\u001b[1;33m.\u001b[0m\u001b[0m_validate_key\u001b[0m\u001b[1;33m(\u001b[0m\u001b[0mk\u001b[0m\u001b[1;33m,\u001b[0m \u001b[0mi\u001b[0m\u001b[1;33m)\u001b[0m\u001b[1;33m\u001b[0m\u001b[1;33m\u001b[0m\u001b[0m\n\u001b[0m\u001b[0;32m    236\u001b[0m             \u001b[1;32mexcept\u001b[0m \u001b[0mValueError\u001b[0m\u001b[1;33m:\u001b[0m\u001b[1;33m\u001b[0m\u001b[1;33m\u001b[0m\u001b[0m\n\u001b[0;32m    237\u001b[0m                 raise ValueError(\n",
      "\u001b[1;32mG:\\Anaconda\\lib\\site-packages\\pandas\\core\\indexing.py\u001b[0m in \u001b[0;36m_validate_key\u001b[1;34m(self, key, axis)\u001b[0m\n\u001b[0;32m   2012\u001b[0m             \u001b[1;32mreturn\u001b[0m\u001b[1;33m\u001b[0m\u001b[1;33m\u001b[0m\u001b[0m\n\u001b[0;32m   2013\u001b[0m         \u001b[1;32melif\u001b[0m \u001b[0mis_integer\u001b[0m\u001b[1;33m(\u001b[0m\u001b[0mkey\u001b[0m\u001b[1;33m)\u001b[0m\u001b[1;33m:\u001b[0m\u001b[1;33m\u001b[0m\u001b[1;33m\u001b[0m\u001b[0m\n\u001b[1;32m-> 2014\u001b[1;33m             \u001b[0mself\u001b[0m\u001b[1;33m.\u001b[0m\u001b[0m_validate_integer\u001b[0m\u001b[1;33m(\u001b[0m\u001b[0mkey\u001b[0m\u001b[1;33m,\u001b[0m \u001b[0maxis\u001b[0m\u001b[1;33m)\u001b[0m\u001b[1;33m\u001b[0m\u001b[1;33m\u001b[0m\u001b[0m\n\u001b[0m\u001b[0;32m   2015\u001b[0m         \u001b[1;32melif\u001b[0m \u001b[0misinstance\u001b[0m\u001b[1;33m(\u001b[0m\u001b[0mkey\u001b[0m\u001b[1;33m,\u001b[0m \u001b[0mtuple\u001b[0m\u001b[1;33m)\u001b[0m\u001b[1;33m:\u001b[0m\u001b[1;33m\u001b[0m\u001b[1;33m\u001b[0m\u001b[0m\n\u001b[0;32m   2016\u001b[0m             \u001b[1;31m# a tuple should already have been caught by this point\u001b[0m\u001b[1;33m\u001b[0m\u001b[1;33m\u001b[0m\u001b[1;33m\u001b[0m\u001b[0m\n",
      "\u001b[1;32mG:\\Anaconda\\lib\\site-packages\\pandas\\core\\indexing.py\u001b[0m in \u001b[0;36m_validate_integer\u001b[1;34m(self, key, axis)\u001b[0m\n\u001b[0;32m   2086\u001b[0m         \u001b[0mlen_axis\u001b[0m \u001b[1;33m=\u001b[0m \u001b[0mlen\u001b[0m\u001b[1;33m(\u001b[0m\u001b[0mself\u001b[0m\u001b[1;33m.\u001b[0m\u001b[0mobj\u001b[0m\u001b[1;33m.\u001b[0m\u001b[0m_get_axis\u001b[0m\u001b[1;33m(\u001b[0m\u001b[0maxis\u001b[0m\u001b[1;33m)\u001b[0m\u001b[1;33m)\u001b[0m\u001b[1;33m\u001b[0m\u001b[1;33m\u001b[0m\u001b[0m\n\u001b[0;32m   2087\u001b[0m         \u001b[1;32mif\u001b[0m \u001b[0mkey\u001b[0m \u001b[1;33m>=\u001b[0m \u001b[0mlen_axis\u001b[0m \u001b[1;32mor\u001b[0m \u001b[0mkey\u001b[0m \u001b[1;33m<\u001b[0m \u001b[1;33m-\u001b[0m\u001b[0mlen_axis\u001b[0m\u001b[1;33m:\u001b[0m\u001b[1;33m\u001b[0m\u001b[1;33m\u001b[0m\u001b[0m\n\u001b[1;32m-> 2088\u001b[1;33m             \u001b[1;32mraise\u001b[0m \u001b[0mIndexError\u001b[0m\u001b[1;33m(\u001b[0m\u001b[1;34m\"single positional indexer is out-of-bounds\"\u001b[0m\u001b[1;33m)\u001b[0m\u001b[1;33m\u001b[0m\u001b[1;33m\u001b[0m\u001b[0m\n\u001b[0m\u001b[0;32m   2089\u001b[0m \u001b[1;33m\u001b[0m\u001b[0m\n\u001b[0;32m   2090\u001b[0m     \u001b[1;32mdef\u001b[0m \u001b[0m_getitem_tuple\u001b[0m\u001b[1;33m(\u001b[0m\u001b[0mself\u001b[0m\u001b[1;33m,\u001b[0m \u001b[0mtup\u001b[0m\u001b[1;33m)\u001b[0m\u001b[1;33m:\u001b[0m\u001b[1;33m\u001b[0m\u001b[1;33m\u001b[0m\u001b[0m\n",
      "\u001b[1;31mIndexError\u001b[0m: single positional indexer is out-of-bounds"
     ]
    }
   ],
   "source": [
    "i = 0\n",
    "j = 1\n",
    "for i in range(matches.shape[0]):\n",
    "    \n",
    "    winner_team = matches.iloc[j,1]\n",
    "    matches.iloc[j,7] = winner_team \n",
    "    print(winner_team)\n",
    "    j = j + 2\n",
    "    "
   ]
  },
  {
   "cell_type": "code",
   "execution_count": 7,
   "metadata": {},
   "outputs": [
    {
     "name": "stdout",
     "output_type": "stream",
     "text": [
      "England\n",
      "Australia\n",
      "England\n",
      "Australia\n",
      "England\n",
      "Australia\n",
      "England\n",
      "Pakistan\n",
      "England\n",
      "Australia\n",
      "England\n",
      "Australia\n",
      "England\n",
      "India\n",
      "India\n",
      "New Zealand\n",
      "Australia\n",
      "India\n",
      "India\n",
      "Australia\n",
      "Sri Lanka\n",
      "New Zealand\n",
      "England\n",
      "Australia\n",
      "England\n",
      "India\n",
      "India\n",
      "New Zealand\n",
      "Sri Lanka\n",
      "New Zealand\n",
      "Pakistan\n",
      "India\n",
      "West Indies\n",
      "England\n",
      "New Zealand\n",
      "South Africa\n",
      "India\n",
      "New Zealand\n",
      "England\n",
      "South Africa\n",
      "New Zealand\n",
      "Sri Lanka\n",
      "New Zealand\n",
      "Pakistan\n",
      "England\n",
      "New Zealand\n",
      "England\n",
      "South Africa\n",
      "Netherlands\n",
      "India\n",
      "New Zealand\n",
      "India\n",
      "Australia\n",
      "Sri Lanka\n",
      "Kenya\n",
      "Kenya\n",
      "India\n",
      "Pakistan\n",
      "Netherlands\n",
      "Pakistan\n",
      "Netherlands\n",
      "Sri Lanka\n",
      "England\n",
      "South Africa\n",
      "India\n",
      "Australia\n",
      "India\n",
      "Australia\n",
      "Bangladesh\n",
      "India\n",
      "Australia\n",
      "Bangladesh\n",
      "Sri Lanka\n",
      "Australia\n",
      "New Zealand\n",
      "Kenya\n",
      "Australia\n",
      "New Zealand\n",
      "South Africa\n",
      "Australia\n",
      "Scotland\n",
      "Pakistan\n",
      "India\n",
      "New Zealand\n",
      "India\n",
      "New Zealand\n",
      "Australia\n",
      "Zimbabwe\n",
      "Australia\n",
      "South Africa\n",
      "Zimbabwe\n",
      "Bangladesh\n",
      "Canada\n",
      "Namibia\n",
      "Bangladesh\n",
      "Canada\n",
      "Australia\n",
      "South Africa\n",
      "Canada\n",
      "Kenya\n",
      "Netherlands\n",
      "England\n",
      "South Africa\n",
      "Sri Lanka\n",
      "India\n",
      "Canada\n",
      "South Africa\n",
      "Kenya\n",
      "India\n",
      "India\n",
      "Kenya\n",
      "Sri Lanka\n",
      "Australia\n",
      "Australia\n",
      "Australia\n",
      "Bermuda\n",
      "England\n",
      "Bangladesh\n",
      "Australia\n",
      "Bermuda\n",
      "Kenya\n",
      "Bangladesh\n",
      "Canada\n",
      "India\n",
      "Australia\n",
      "Bangladesh\n",
      "South Africa\n",
      "England\n",
      "West Indies\n",
      "Ireland\n",
      "Bangladesh\n",
      "Ireland\n",
      "Bangladesh\n",
      "Australia\n",
      "Bangladesh\n",
      "England\n",
      "West Indies\n",
      "West Indies\n",
      "Australia\n",
      "Bangladesh\n",
      "Sri Lanka\n",
      "England\n",
      "South Africa\n",
      "Bangladesh\n",
      "India\n",
      "Netherlands\n",
      "England\n",
      "Canada\n",
      "Bangladesh\n",
      "England\n",
      "Canada\n",
      "India\n",
      "Ireland\n",
      "India\n",
      "Australia\n",
      "Pakistan\n",
      "Australia\n",
      "Ireland\n",
      "Bangladesh\n",
      "Kenya\n",
      "Pakistan\n",
      "New Zealand\n",
      "Sri Lanka\n",
      "India\n",
      "Australia\n",
      "India\n",
      "New Zealand\n",
      "UAE\n",
      "Pakistan\n",
      "Afghanistan\n",
      "England\n",
      "Ireland\n",
      "Bangladesh\n",
      "New Zealand\n",
      "England\n",
      "Ireland\n",
      "Australia\n",
      "India\n",
      "Ireland\n",
      "Australia\n",
      "India\n",
      "South Africa\n",
      "Afghanistan\n",
      "Australia\n",
      "Ireland\n",
      "Bangladesh\n",
      "New Zealand\n",
      "Australia\n",
      "England\n",
      "New Zealand\n",
      "Bangladesh\n",
      "Afghanistan\n",
      "Bangladesh\n",
      "Pakistan\n",
      "Afghanistan\n",
      "South Africa\n",
      "Australia\n",
      "England\n",
      "Afghanistan\n",
      "Bangladesh\n",
      "New Zealand\n",
      "England\n",
      "New Zealand\n",
      "Afghanistan\n",
      "New Zealand\n",
      "South Africa\n",
      "Australia\n",
      "Sri Lanka\n",
      "England\n",
      "Bangladesh\n",
      "Australia\n",
      "England\n"
     ]
    },
    {
     "ename": "IndexError",
     "evalue": "single positional indexer is out-of-bounds",
     "output_type": "error",
     "traceback": [
      "\u001b[1;31m---------------------------------------------------------------------------\u001b[0m",
      "\u001b[1;31mIndexError\u001b[0m                                Traceback (most recent call last)",
      "\u001b[1;32m<ipython-input-7-b06b61bd3855>\u001b[0m in \u001b[0;36m<module>\u001b[1;34m\u001b[0m\n\u001b[0;32m      3\u001b[0m \u001b[1;32mfor\u001b[0m \u001b[0mi\u001b[0m \u001b[1;32min\u001b[0m \u001b[0mrange\u001b[0m\u001b[1;33m(\u001b[0m\u001b[0mmatches\u001b[0m\u001b[1;33m.\u001b[0m\u001b[0mshape\u001b[0m\u001b[1;33m[\u001b[0m\u001b[1;36m0\u001b[0m\u001b[1;33m]\u001b[0m\u001b[1;33m)\u001b[0m\u001b[1;33m:\u001b[0m\u001b[1;33m\u001b[0m\u001b[1;33m\u001b[0m\u001b[0m\n\u001b[0;32m      4\u001b[0m \u001b[1;33m\u001b[0m\u001b[0m\n\u001b[1;32m----> 5\u001b[1;33m     \u001b[0mwinner_team\u001b[0m \u001b[1;33m=\u001b[0m \u001b[0mmatches\u001b[0m\u001b[1;33m.\u001b[0m\u001b[0miloc\u001b[0m\u001b[1;33m[\u001b[0m\u001b[0mj\u001b[0m\u001b[1;33m,\u001b[0m\u001b[1;36m0\u001b[0m\u001b[1;33m]\u001b[0m\u001b[1;33m\u001b[0m\u001b[1;33m\u001b[0m\u001b[0m\n\u001b[0m\u001b[0;32m      6\u001b[0m     \u001b[0mmatches\u001b[0m\u001b[1;33m.\u001b[0m\u001b[0miloc\u001b[0m\u001b[1;33m[\u001b[0m\u001b[0mj\u001b[0m\u001b[1;33m,\u001b[0m\u001b[1;36m7\u001b[0m\u001b[1;33m]\u001b[0m \u001b[1;33m=\u001b[0m \u001b[0mwinner_team\u001b[0m\u001b[1;33m\u001b[0m\u001b[1;33m\u001b[0m\u001b[0m\n\u001b[0;32m      7\u001b[0m     \u001b[0mprint\u001b[0m\u001b[1;33m(\u001b[0m\u001b[0mwinner_team\u001b[0m\u001b[1;33m)\u001b[0m\u001b[1;33m\u001b[0m\u001b[1;33m\u001b[0m\u001b[0m\n",
      "\u001b[1;32mG:\\Anaconda\\lib\\site-packages\\pandas\\core\\indexing.py\u001b[0m in \u001b[0;36m__getitem__\u001b[1;34m(self, key)\u001b[0m\n\u001b[0;32m   1416\u001b[0m                 \u001b[1;32mexcept\u001b[0m \u001b[1;33m(\u001b[0m\u001b[0mKeyError\u001b[0m\u001b[1;33m,\u001b[0m \u001b[0mIndexError\u001b[0m\u001b[1;33m,\u001b[0m \u001b[0mAttributeError\u001b[0m\u001b[1;33m)\u001b[0m\u001b[1;33m:\u001b[0m\u001b[1;33m\u001b[0m\u001b[1;33m\u001b[0m\u001b[0m\n\u001b[0;32m   1417\u001b[0m                     \u001b[1;32mpass\u001b[0m\u001b[1;33m\u001b[0m\u001b[1;33m\u001b[0m\u001b[0m\n\u001b[1;32m-> 1418\u001b[1;33m             \u001b[1;32mreturn\u001b[0m \u001b[0mself\u001b[0m\u001b[1;33m.\u001b[0m\u001b[0m_getitem_tuple\u001b[0m\u001b[1;33m(\u001b[0m\u001b[0mkey\u001b[0m\u001b[1;33m)\u001b[0m\u001b[1;33m\u001b[0m\u001b[1;33m\u001b[0m\u001b[0m\n\u001b[0m\u001b[0;32m   1419\u001b[0m         \u001b[1;32melse\u001b[0m\u001b[1;33m:\u001b[0m\u001b[1;33m\u001b[0m\u001b[1;33m\u001b[0m\u001b[0m\n\u001b[0;32m   1420\u001b[0m             \u001b[1;31m# we by definition only have the 0th axis\u001b[0m\u001b[1;33m\u001b[0m\u001b[1;33m\u001b[0m\u001b[1;33m\u001b[0m\u001b[0m\n",
      "\u001b[1;32mG:\\Anaconda\\lib\\site-packages\\pandas\\core\\indexing.py\u001b[0m in \u001b[0;36m_getitem_tuple\u001b[1;34m(self, tup)\u001b[0m\n\u001b[0;32m   2090\u001b[0m     \u001b[1;32mdef\u001b[0m \u001b[0m_getitem_tuple\u001b[0m\u001b[1;33m(\u001b[0m\u001b[0mself\u001b[0m\u001b[1;33m,\u001b[0m \u001b[0mtup\u001b[0m\u001b[1;33m)\u001b[0m\u001b[1;33m:\u001b[0m\u001b[1;33m\u001b[0m\u001b[1;33m\u001b[0m\u001b[0m\n\u001b[0;32m   2091\u001b[0m \u001b[1;33m\u001b[0m\u001b[0m\n\u001b[1;32m-> 2092\u001b[1;33m         \u001b[0mself\u001b[0m\u001b[1;33m.\u001b[0m\u001b[0m_has_valid_tuple\u001b[0m\u001b[1;33m(\u001b[0m\u001b[0mtup\u001b[0m\u001b[1;33m)\u001b[0m\u001b[1;33m\u001b[0m\u001b[1;33m\u001b[0m\u001b[0m\n\u001b[0m\u001b[0;32m   2093\u001b[0m         \u001b[1;32mtry\u001b[0m\u001b[1;33m:\u001b[0m\u001b[1;33m\u001b[0m\u001b[1;33m\u001b[0m\u001b[0m\n\u001b[0;32m   2094\u001b[0m             \u001b[1;32mreturn\u001b[0m \u001b[0mself\u001b[0m\u001b[1;33m.\u001b[0m\u001b[0m_getitem_lowerdim\u001b[0m\u001b[1;33m(\u001b[0m\u001b[0mtup\u001b[0m\u001b[1;33m)\u001b[0m\u001b[1;33m\u001b[0m\u001b[1;33m\u001b[0m\u001b[0m\n",
      "\u001b[1;32mG:\\Anaconda\\lib\\site-packages\\pandas\\core\\indexing.py\u001b[0m in \u001b[0;36m_has_valid_tuple\u001b[1;34m(self, key)\u001b[0m\n\u001b[0;32m    233\u001b[0m                 \u001b[1;32mraise\u001b[0m \u001b[0mIndexingError\u001b[0m\u001b[1;33m(\u001b[0m\u001b[1;34m\"Too many indexers\"\u001b[0m\u001b[1;33m)\u001b[0m\u001b[1;33m\u001b[0m\u001b[1;33m\u001b[0m\u001b[0m\n\u001b[0;32m    234\u001b[0m             \u001b[1;32mtry\u001b[0m\u001b[1;33m:\u001b[0m\u001b[1;33m\u001b[0m\u001b[1;33m\u001b[0m\u001b[0m\n\u001b[1;32m--> 235\u001b[1;33m                 \u001b[0mself\u001b[0m\u001b[1;33m.\u001b[0m\u001b[0m_validate_key\u001b[0m\u001b[1;33m(\u001b[0m\u001b[0mk\u001b[0m\u001b[1;33m,\u001b[0m \u001b[0mi\u001b[0m\u001b[1;33m)\u001b[0m\u001b[1;33m\u001b[0m\u001b[1;33m\u001b[0m\u001b[0m\n\u001b[0m\u001b[0;32m    236\u001b[0m             \u001b[1;32mexcept\u001b[0m \u001b[0mValueError\u001b[0m\u001b[1;33m:\u001b[0m\u001b[1;33m\u001b[0m\u001b[1;33m\u001b[0m\u001b[0m\n\u001b[0;32m    237\u001b[0m                 raise ValueError(\n",
      "\u001b[1;32mG:\\Anaconda\\lib\\site-packages\\pandas\\core\\indexing.py\u001b[0m in \u001b[0;36m_validate_key\u001b[1;34m(self, key, axis)\u001b[0m\n\u001b[0;32m   2012\u001b[0m             \u001b[1;32mreturn\u001b[0m\u001b[1;33m\u001b[0m\u001b[1;33m\u001b[0m\u001b[0m\n\u001b[0;32m   2013\u001b[0m         \u001b[1;32melif\u001b[0m \u001b[0mis_integer\u001b[0m\u001b[1;33m(\u001b[0m\u001b[0mkey\u001b[0m\u001b[1;33m)\u001b[0m\u001b[1;33m:\u001b[0m\u001b[1;33m\u001b[0m\u001b[1;33m\u001b[0m\u001b[0m\n\u001b[1;32m-> 2014\u001b[1;33m             \u001b[0mself\u001b[0m\u001b[1;33m.\u001b[0m\u001b[0m_validate_integer\u001b[0m\u001b[1;33m(\u001b[0m\u001b[0mkey\u001b[0m\u001b[1;33m,\u001b[0m \u001b[0maxis\u001b[0m\u001b[1;33m)\u001b[0m\u001b[1;33m\u001b[0m\u001b[1;33m\u001b[0m\u001b[0m\n\u001b[0m\u001b[0;32m   2015\u001b[0m         \u001b[1;32melif\u001b[0m \u001b[0misinstance\u001b[0m\u001b[1;33m(\u001b[0m\u001b[0mkey\u001b[0m\u001b[1;33m,\u001b[0m \u001b[0mtuple\u001b[0m\u001b[1;33m)\u001b[0m\u001b[1;33m:\u001b[0m\u001b[1;33m\u001b[0m\u001b[1;33m\u001b[0m\u001b[0m\n\u001b[0;32m   2016\u001b[0m             \u001b[1;31m# a tuple should already have been caught by this point\u001b[0m\u001b[1;33m\u001b[0m\u001b[1;33m\u001b[0m\u001b[1;33m\u001b[0m\u001b[0m\n",
      "\u001b[1;32mG:\\Anaconda\\lib\\site-packages\\pandas\\core\\indexing.py\u001b[0m in \u001b[0;36m_validate_integer\u001b[1;34m(self, key, axis)\u001b[0m\n\u001b[0;32m   2086\u001b[0m         \u001b[0mlen_axis\u001b[0m \u001b[1;33m=\u001b[0m \u001b[0mlen\u001b[0m\u001b[1;33m(\u001b[0m\u001b[0mself\u001b[0m\u001b[1;33m.\u001b[0m\u001b[0mobj\u001b[0m\u001b[1;33m.\u001b[0m\u001b[0m_get_axis\u001b[0m\u001b[1;33m(\u001b[0m\u001b[0maxis\u001b[0m\u001b[1;33m)\u001b[0m\u001b[1;33m)\u001b[0m\u001b[1;33m\u001b[0m\u001b[1;33m\u001b[0m\u001b[0m\n\u001b[0;32m   2087\u001b[0m         \u001b[1;32mif\u001b[0m \u001b[0mkey\u001b[0m \u001b[1;33m>=\u001b[0m \u001b[0mlen_axis\u001b[0m \u001b[1;32mor\u001b[0m \u001b[0mkey\u001b[0m \u001b[1;33m<\u001b[0m \u001b[1;33m-\u001b[0m\u001b[0mlen_axis\u001b[0m\u001b[1;33m:\u001b[0m\u001b[1;33m\u001b[0m\u001b[1;33m\u001b[0m\u001b[0m\n\u001b[1;32m-> 2088\u001b[1;33m             \u001b[1;32mraise\u001b[0m \u001b[0mIndexError\u001b[0m\u001b[1;33m(\u001b[0m\u001b[1;34m\"single positional indexer is out-of-bounds\"\u001b[0m\u001b[1;33m)\u001b[0m\u001b[1;33m\u001b[0m\u001b[1;33m\u001b[0m\u001b[0m\n\u001b[0m\u001b[0;32m   2089\u001b[0m \u001b[1;33m\u001b[0m\u001b[0m\n\u001b[0;32m   2090\u001b[0m     \u001b[1;32mdef\u001b[0m \u001b[0m_getitem_tuple\u001b[0m\u001b[1;33m(\u001b[0m\u001b[0mself\u001b[0m\u001b[1;33m,\u001b[0m \u001b[0mtup\u001b[0m\u001b[1;33m)\u001b[0m\u001b[1;33m:\u001b[0m\u001b[1;33m\u001b[0m\u001b[1;33m\u001b[0m\u001b[0m\n",
      "\u001b[1;31mIndexError\u001b[0m: single positional indexer is out-of-bounds"
     ]
    }
   ],
   "source": [
    "i = 1\n",
    "j = 0\n",
    "for i in range(matches.shape[0]):\n",
    "    \n",
    "    winner_team = matches.iloc[j,0]\n",
    "    matches.iloc[j,7] = winner_team \n",
    "    print(winner_team)\n",
    "    j = j + 2\n",
    "    "
   ]
  },
  {
   "cell_type": "code",
   "execution_count": 8,
   "metadata": {},
   "outputs": [],
   "source": [
    "encode = {'Team 1': {'England':1,'Pakistan':2,'Australia':3,'India':4,'New Zealand':5,'West Indies':6,'Sri Lanka':7,'South Africa':8,'Netherlands':9,'Kenya':10,'Bangladesh':11,'Scotland':12,'Zimbabwe':13,'Canada':14,'Namibia':15,'Bermuda':16,'Ireland':17,'Afghanistan':18,'UAE':19},\n",
    "          'Team 2': {'England':1,'Pakistan':2,'Australia':3,'India':4,'New Zealand':5,'West Indies':6,'Sri Lanka':7,'South Africa':8,'Netherlands':9,'Kenya':10,'Bangladesh':11,'Scotland':12,'Zimbabwe':13,'Canada':14,'Namibia':15,'Bermuda':16,'Ireland':17,'Afghanistan':18,'UAE':19},\n",
    "          'Toss Winner': {'England':1,'Pakistan':2,'Australia':3,'India':4,'New Zealand':5,'West Indies':6,'Sri Lanka':7,'South Africa':8,'Netherlands':9,'Kenya':10,'Bangladesh':11,'Scotland':12,'Zimbabwe':13,'Canada':14,'Namibia':15,'Bermuda':16,'Ireland':17,'Afghanistan':18,'UAE':19},\n",
    "          'Winner': {'England':1,'Pakistan':2,'Australia':3,'India':4,'New Zealand':5,'West Indies':6,'Sri Lanka':7,'South Africa':8,'Netherlands':9,'Kenya':10,'Bangladesh':11,'Scotland':12,'Zimbabwe':13,'Canada':14,'Namibia':15,'Bermuda':16,'Ireland':17,'Afghanistan':18,'UAE':19, 'no result':20, 'abandoned': 21, 'tied': 22},\n",
    "          'Ground':{'The Oval':1, 'Swansea':2, 'Nottingham':3, 'Manchester':4, 'Taunton':5,\n",
    "       'Birmingham':6, 'Leeds':7, 'Leicester':8, \"Lord's\":9, 'Bristol':10,\n",
    "       'Worcester':11, 'Southampton':12, 'Derby':13, 'Tunbridge Wells':14,\n",
    "       'Chelmsford':15, 'Hyderabad (Sind)':16, 'Chennai':17, 'Gujranwala':18,\n",
    "       'Hyderabad (Deccan)':19, 'Rawalpindi':20, 'Karachi':21, 'Bengaluru':22,\n",
    "       'Lahore':23, 'Mumbai':24, 'Peshawar':25, 'Indore':26, 'Kanpur':27, 'Delhi':28,\n",
    "        'Kolkata':29, 'Faisalabad':30, 'Jaipur':31, 'Ahmedabad':32, 'Chandigarh':33,\n",
    "       'Cuttack':34, 'Pune':35, 'Nagpur':36, 'Auckland':37, 'Perth':38, 'New Plymouth':39,\n",
    "       'Melbourne':40, 'Hamilton':41, 'Sydney':42, 'Hobart':43, 'Mackay':44, 'Brisbane':45,\n",
    "       'Adelaide':46, 'Wellington':47, 'Napier':48, 'Christchurch':49, 'Ballarat':50,\n",
    "       'Canberra':51, 'Dunedin':52, 'Berri':53, 'Albury':54, 'Vadodara':55,\n",
    "       'Colombo (RPS)':56, 'Colombo (SSC)':57, 'Gwalior':58, 'Visakhapatnam':59,\n",
    "       'Patna':60, 'Kandy':61, 'Mohali':62, 'Hove':63, 'Canterbury':64, 'Northampton':65,\n",
    "       'Cardiff':66, 'Chester-le-Street':67, 'Dublin':68, 'Edinburgh':69,\n",
    "       'Amstelveen':70, 'Cape Town':71, 'Harare':72, 'Bloemfontein':73,\n",
    "       'Johannesburg':74, 'Durban':75, 'Potchefstroom':76, 'Paarl':77,\n",
    "       'Port Elizabeth':78, 'Pietermaritzburg':79, 'Centurion':80, 'East London':81,\n",
    "       'Kimberley':82, 'Benoni':83, 'Nairobi (Gym)':84, 'Bulawayo':85, 'Kingston':86,\n",
    "       'Basseterre':87, 'Gros Islet':88, 'Port of Spain':89, 'North Sound':90,\n",
    "       'Providence':91, \"St George's\":92, 'Bridgetown':93, 'Dhaka':94, 'Hambantota':95,\n",
    "       'Pallekele':96, 'Chattogram':97, 'Nelson':98}}\n",
    "    "
   ]
  },
  {
   "cell_type": "code",
   "execution_count": 9,
   "metadata": {},
   "outputs": [],
   "source": [
    "matches.replace(encode, inplace=True)"
   ]
  },
  {
   "cell_type": "code",
   "execution_count": 10,
   "metadata": {},
   "outputs": [
    {
     "name": "stdout",
     "output_type": "stream",
     "text": [
      "1\n",
      "England\n"
     ]
    }
   ],
   "source": [
    "dicVal = encode['Winner']\n",
    "print(dicVal['England']) \n",
    "print(list(dicVal.keys())[list(dicVal.values()).index(1)]) "
   ]
  },
  {
   "cell_type": "code",
   "execution_count": 11,
   "metadata": {},
   "outputs": [
    {
     "name": "stdout",
     "output_type": "stream",
     "text": [
      "1\n",
      "The Oval\n"
     ]
    }
   ],
   "source": [
    "dicValue = encode['Ground']\n",
    "print(dicValue['The Oval']) \n",
    "print(list(dicValue.keys())[list(dicValue.values()).index(1)]) "
   ]
  },
  {
   "cell_type": "code",
   "execution_count": 12,
   "metadata": {},
   "outputs": [
    {
     "data": {
      "text/html": [
       "<div>\n",
       "<style scoped>\n",
       "    .dataframe tbody tr th:only-of-type {\n",
       "        vertical-align: middle;\n",
       "    }\n",
       "\n",
       "    .dataframe tbody tr th {\n",
       "        vertical-align: top;\n",
       "    }\n",
       "\n",
       "    .dataframe thead th {\n",
       "        text-align: right;\n",
       "    }\n",
       "</style>\n",
       "<table border=\"1\" class=\"dataframe\">\n",
       "  <thead>\n",
       "    <tr style=\"text-align: right;\">\n",
       "      <th></th>\n",
       "      <th>Team 1</th>\n",
       "      <th>Team 2</th>\n",
       "      <th>Ground</th>\n",
       "      <th>Toss Winner</th>\n",
       "      <th>Winner</th>\n",
       "    </tr>\n",
       "  </thead>\n",
       "  <tbody>\n",
       "    <tr>\n",
       "      <td>0</td>\n",
       "      <td>1</td>\n",
       "      <td>5</td>\n",
       "      <td>1</td>\n",
       "      <td>1</td>\n",
       "      <td>1</td>\n",
       "    </tr>\n",
       "    <tr>\n",
       "      <td>1</td>\n",
       "      <td>2</td>\n",
       "      <td>7</td>\n",
       "      <td>2</td>\n",
       "      <td>7</td>\n",
       "      <td>2</td>\n",
       "    </tr>\n",
       "    <tr>\n",
       "      <td>2</td>\n",
       "      <td>3</td>\n",
       "      <td>13</td>\n",
       "      <td>3</td>\n",
       "      <td>3</td>\n",
       "      <td>13</td>\n",
       "    </tr>\n",
       "    <tr>\n",
       "      <td>3</td>\n",
       "      <td>4</td>\n",
       "      <td>6</td>\n",
       "      <td>4</td>\n",
       "      <td>6</td>\n",
       "      <td>4</td>\n",
       "    </tr>\n",
       "    <tr>\n",
       "      <td>4</td>\n",
       "      <td>1</td>\n",
       "      <td>7</td>\n",
       "      <td>5</td>\n",
       "      <td>1</td>\n",
       "      <td>1</td>\n",
       "    </tr>\n",
       "  </tbody>\n",
       "</table>\n",
       "</div>"
      ],
      "text/plain": [
       "   Team 1  Team 2  Ground  Toss Winner  Winner\n",
       "0       1       5       1            1       1\n",
       "1       2       7       2            7       2\n",
       "2       3      13       3            3      13\n",
       "3       4       6       4            6       4\n",
       "4       1       7       5            1       1"
      ]
     },
     "execution_count": 12,
     "metadata": {},
     "output_type": "execute_result"
    }
   ],
   "source": [
    "matches = matches[['Team 1','Team 2','Ground','Toss Winner','Winner']]\n",
    "matches.head()"
   ]
  },
  {
   "cell_type": "code",
   "execution_count": 13,
   "metadata": {},
   "outputs": [],
   "source": [
    "df = matches"
   ]
  },
  {
   "cell_type": "code",
   "execution_count": 14,
   "metadata": {},
   "outputs": [
    {
     "data": {
      "text/plain": [
       "Team 1         int64\n",
       "Team 2         int64\n",
       "Ground         int64\n",
       "Toss Winner    int64\n",
       "Winner         int64\n",
       "dtype: object"
      ]
     },
     "execution_count": 14,
     "metadata": {},
     "output_type": "execute_result"
    }
   ],
   "source": [
    "df.dtypes"
   ]
  },
  {
   "cell_type": "markdown",
   "metadata": {},
   "source": [
    "## Building Variaus Machine learning models "
   ]
  },
  {
   "cell_type": "code",
   "execution_count": 15,
   "metadata": {},
   "outputs": [],
   "source": [
    "from sklearn.model_selection import train_test_split\n",
    "data_pred_final = df.copy()\n",
    "\n",
    "# Separate X and y sets\n",
    "X = data_pred_final.drop(['Winner'], axis=1)\n",
    "y = data_pred_final[\"Winner\"]\n",
    "\n",
    "\n",
    "# Separate train and test sets\n",
    "X_train, X_test, y_train, y_test = train_test_split(X, y, test_size=0.25, random_state=111)\n"
   ]
  },
  {
   "cell_type": "code",
   "execution_count": 16,
   "metadata": {},
   "outputs": [
    {
     "name": "stdout",
     "output_type": "stream",
     "text": [
      "Training set accuracy percentage:  97.17 %\n",
      "Test set accuracy percentage:  61.32 %\n"
     ]
    }
   ],
   "source": [
    "from sklearn.linear_model import LogisticRegression\n",
    "from sklearn.ensemble import RandomForestClassifier\n",
    "rf = RandomForestClassifier(n_estimators=40, max_depth=10,  random_state=15)\n",
    "\n",
    "rf.fit(X_train, y_train) \n",
    "\n",
    "\n",
    "score1 = rf.score(X_train, y_train)\n",
    "score2 = rf.score(X_test, y_test)\n",
    "\n",
    "\n",
    "print(\"Training set accuracy percentage: \", '%.2f'%(score1*100)+ \" %\")\n",
    "print(\"Test set accuracy percentage: \", '%.2f'%(score2*100)+\" %\")"
   ]
  },
  {
   "cell_type": "code",
   "execution_count": 17,
   "metadata": {},
   "outputs": [],
   "source": [
    "predictions = rf.predict(X_test)\n"
   ]
  },
  {
   "cell_type": "code",
   "execution_count": 18,
   "metadata": {},
   "outputs": [],
   "source": [
    "pred_set = df.drop(['Winner'], axis=1)"
   ]
  },
  {
   "cell_type": "code",
   "execution_count": 19,
   "metadata": {},
   "outputs": [],
   "source": [
    "from sklearn.linear_model import LogisticRegression\n",
    "from sklearn.ensemble import RandomForestClassifier\n",
    "\n",
    "#make a class to run everything\n",
    "def classification_model(model, data, predictors, outcome):\n",
    "    model.fit(data[predictors],data[outcome])\n",
    "    predictions = model.predict(data[predictors])\n",
    "    accuracy = metrics.accuracy_score(predictions,data[outcome])\n",
    "    print('Accuracy : %s' % '{0:.2%}'.format(accuracy))\n",
    "   \n",
    "\n",
    "    model.fit(data[predictors],data[outcome]) "
   ]
  },
  {
   "cell_type": "code",
   "execution_count": 40,
   "metadata": {
    "scrolled": true
   },
   "outputs": [
    {
     "name": "stdout",
     "output_type": "stream",
     "text": [
      "Accuracy : 27.12%\n"
     ]
    },
    {
     "name": "stderr",
     "output_type": "stream",
     "text": [
      "G:\\Anaconda\\lib\\site-packages\\sklearn\\linear_model\\logistic.py:432: FutureWarning: Default solver will be changed to 'lbfgs' in 0.22. Specify a solver to silence this warning.\n",
      "  FutureWarning)\n",
      "G:\\Anaconda\\lib\\site-packages\\sklearn\\utils\\validation.py:724: DataConversionWarning: A column-vector y was passed when a 1d array was expected. Please change the shape of y to (n_samples, ), for example using ravel().\n",
      "  y = column_or_1d(y, warn=True)\n",
      "G:\\Anaconda\\lib\\site-packages\\sklearn\\linear_model\\logistic.py:469: FutureWarning: Default multi_class will be changed to 'auto' in 0.22. Specify the multi_class option to silence this warning.\n",
      "  \"this warning.\", FutureWarning)\n",
      "G:\\Anaconda\\lib\\site-packages\\sklearn\\linear_model\\logistic.py:432: FutureWarning: Default solver will be changed to 'lbfgs' in 0.22. Specify a solver to silence this warning.\n",
      "  FutureWarning)\n",
      "G:\\Anaconda\\lib\\site-packages\\sklearn\\utils\\validation.py:724: DataConversionWarning: A column-vector y was passed when a 1d array was expected. Please change the shape of y to (n_samples, ), for example using ravel().\n",
      "  y = column_or_1d(y, warn=True)\n",
      "G:\\Anaconda\\lib\\site-packages\\sklearn\\linear_model\\logistic.py:469: FutureWarning: Default multi_class will be changed to 'auto' in 0.22. Specify the multi_class option to silence this warning.\n",
      "  \"this warning.\", FutureWarning)\n"
     ]
    }
   ],
   "source": [
    "outcome_var=['Winner']\n",
    "predictor_var = ['Team 1','Team 2','Toss Winner']\n",
    "model = LogisticRegression()\n",
    "classification_model(model, df,predictor_var,outcome_var)"
   ]
  },
  {
   "cell_type": "code",
   "execution_count": 21,
   "metadata": {},
   "outputs": [
    {
     "name": "stderr",
     "output_type": "stream",
     "text": [
      "G:\\Anaconda\\lib\\site-packages\\ipykernel_launcher.py:6: DataConversionWarning: A column-vector y was passed when a 1d array was expected. Please change the shape of y to (n_samples,), for example using ravel().\n",
      "  \n"
     ]
    },
    {
     "name": "stdout",
     "output_type": "stream",
     "text": [
      "Accuracy : 98.58%\n"
     ]
    },
    {
     "name": "stderr",
     "output_type": "stream",
     "text": [
      "G:\\Anaconda\\lib\\site-packages\\ipykernel_launcher.py:12: DataConversionWarning: A column-vector y was passed when a 1d array was expected. Please change the shape of y to (n_samples,), for example using ravel().\n",
      "  if sys.path[0] == '':\n"
     ]
    }
   ],
   "source": [
    "model = RandomForestClassifier(n_estimators=4000, max_depth=50,  random_state=10)\n",
    "outcome_var = ['Winner']\n",
    "predictor_var = ['Team 1', 'Team 2', 'Ground', 'Toss Winner']\n",
    "classification_model(model, df,predictor_var,outcome_var)\n",
    "\n"
   ]
  },
  {
   "cell_type": "code",
   "execution_count": 41,
   "metadata": {},
   "outputs": [
    {
     "name": "stdout",
     "output_type": "stream",
     "text": [
      "England\n"
     ]
    }
   ],
   "source": [
    "# Input values from the user\n",
    "team1 = 'England'\n",
    "team2 = 'India'\n",
    "tosswinner = 'India'\n",
    "ground = 'Nagpur'\n",
    "inputdata=[dicVal[team1],dicVal[team2],dicValue[ground],dicVal[tosswinner]]\n",
    "inputdata = np.array(inputdata).reshape((1, -1))\n",
    "output= rf.predict(inputdata)\n",
    "print(list(dicVal.keys())[list(dicVal.values()).index(output)])\n"
   ]
  },
  {
   "cell_type": "code",
   "execution_count": 23,
   "metadata": {},
   "outputs": [
    {
     "name": "stdout",
     "output_type": "stream",
     "text": [
      "Team 1         0.354102\n",
      "Ground         0.263693\n",
      "Team 2         0.216489\n",
      "Toss Winner    0.165716\n",
      "dtype: float64\n"
     ]
    }
   ],
   "source": [
    "# Which varibale has the highest prediction value\n",
    "imp_input = pd.Series(model.feature_importances_, index=predictor_var).sort_values(ascending=False)\n",
    "print(imp_input)"
   ]
  },
  {
   "cell_type": "code",
   "execution_count": 24,
   "metadata": {},
   "outputs": [],
   "source": [
    "\n",
    "temp1 = matches.filter([\"Team 1\", \"Winner\"], axis=1)\n",
    "temp2 = matches.filter([\"Team 1\", \"Toss Winner\"], axis=1)\n",
    "temp3 = matches.filter([\"Team 1\", \"Team 2\", \"Winner\", \"Toss Winner\"], axis=1)"
   ]
  },
  {
   "cell_type": "code",
   "execution_count": 36,
   "metadata": {},
   "outputs": [
    {
     "data": {
      "text/plain": [
       "Text(0.5, 1.0, 'Match Winner')"
      ]
     },
     "execution_count": 36,
     "metadata": {},
     "output_type": "execute_result"
    },
    {
     "data": {
      "image/png": "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\n",
      "text/plain": [
       "<Figure size 432x288 with 1 Axes>"
      ]
     },
     "metadata": {
      "needs_background": "light"
     },
     "output_type": "display_data"
    }
   ],
   "source": [
    "ax = sns.barplot(x=\"Team 1\", y=\"Winner\", data=temp3)\n",
    "plt.xlabel('Team ', fontsize=14)\n",
    "plt.ylabel('Count of Wins', fontsize=14)\n",
    "plt.title('Match Winner', fontsize=14)"
   ]
  },
  {
   "cell_type": "code",
   "execution_count": 37,
   "metadata": {},
   "outputs": [
    {
     "data": {
      "text/plain": [
       "Text(0.5, 1.0, 'Toss Winner')"
      ]
     },
     "execution_count": 37,
     "metadata": {},
     "output_type": "execute_result"
    },
    {
     "data": {
      "image/png": "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\n",
      "text/plain": [
       "<Figure size 432x288 with 1 Axes>"
      ]
     },
     "metadata": {
      "needs_background": "light"
     },
     "output_type": "display_data"
    }
   ],
   "source": [
    "ax1 = sns.barplot(x=\"Team 1\", y=\"Toss Winner\", data=temp3)\n",
    "plt.xlabel('Team ', fontsize=14)\n",
    "plt.ylabel('Count of Wins', fontsize=14)\n",
    "plt.title('Toss Winner', fontsize=14)"
   ]
  },
  {
   "cell_type": "code",
   "execution_count": 39,
   "metadata": {},
   "outputs": [
    {
     "data": {
      "text/plain": [
       "[<matplotlib.lines.Line2D at 0x21bdbfcc488>]"
      ]
     },
     "execution_count": 39,
     "metadata": {},
     "output_type": "execute_result"
    },
    {
     "data": {
      "image/png": "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\n",
      "text/plain": [
       "<Figure size 432x288 with 1 Axes>"
      ]
     },
     "metadata": {
      "needs_background": "light"
     },
     "output_type": "display_data"
    }
   ],
   "source": [
    "tempValue = matches.filter([\"Winner\"], axis=1)\n",
    "fig, ax = plt.subplots()\n",
    "ax.plot(tempValue)\n"
   ]
  }
 ],
 "metadata": {
  "kernelspec": {
   "display_name": "Python 3",
   "language": "python",
   "name": "python3"
  },
  "language_info": {
   "codemirror_mode": {
    "name": "ipython",
    "version": 3
   },
   "file_extension": ".py",
   "mimetype": "text/x-python",
   "name": "python",
   "nbconvert_exporter": "python",
   "pygments_lexer": "ipython3",
   "version": "3.7.4"
  }
 },
 "nbformat": 4,
 "nbformat_minor": 2
}
